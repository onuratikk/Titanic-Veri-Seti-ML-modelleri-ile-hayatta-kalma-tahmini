{
 "cells": [
  {
   "cell_type": "code",
   "execution_count": 68,
   "id": "be50f786-d73b-418f-af5a-0ce57ed0f0a2",
   "metadata": {},
   "outputs": [
    {
     "name": "stdout",
     "output_type": "stream",
     "text": [
      "   survived  pclass     sex   age  sibsp  parch     fare embarked  class  \\\n",
      "0         0       3    male  22.0      1      0   7.2500        S  Third   \n",
      "1         1       1  female  38.0      1      0  71.2833        C  First   \n",
      "2         1       3  female  26.0      0      0   7.9250        S  Third   \n",
      "3         1       1  female  35.0      1      0  53.1000        S  First   \n",
      "4         0       3    male  35.0      0      0   8.0500        S  Third   \n",
      "\n",
      "     who  adult_male deck  embark_town alive  alone  \n",
      "0    man        True  NaN  Southampton    no  False  \n",
      "1  woman       False    C    Cherbourg   yes  False  \n",
      "2  woman       False  NaN  Southampton   yes   True  \n",
      "3  woman       False    C  Southampton   yes  False  \n",
      "4    man        True  NaN  Southampton    no   True  \n",
      "<class 'pandas.core.frame.DataFrame'>\n",
      "RangeIndex: 891 entries, 0 to 890\n",
      "Data columns (total 15 columns):\n",
      " #   Column       Non-Null Count  Dtype   \n",
      "---  ------       --------------  -----   \n",
      " 0   survived     891 non-null    int64   \n",
      " 1   pclass       891 non-null    int64   \n",
      " 2   sex          891 non-null    object  \n",
      " 3   age          714 non-null    float64 \n",
      " 4   sibsp        891 non-null    int64   \n",
      " 5   parch        891 non-null    int64   \n",
      " 6   fare         891 non-null    float64 \n",
      " 7   embarked     889 non-null    object  \n",
      " 8   class        891 non-null    category\n",
      " 9   who          891 non-null    object  \n",
      " 10  adult_male   891 non-null    bool    \n",
      " 11  deck         203 non-null    category\n",
      " 12  embark_town  889 non-null    object  \n",
      " 13  alive        891 non-null    object  \n",
      " 14  alone        891 non-null    bool    \n",
      "dtypes: bool(2), category(2), float64(2), int64(4), object(5)\n",
      "memory usage: 80.7+ KB\n",
      "None\n",
      "survived         0\n",
      "pclass           0\n",
      "sex              0\n",
      "age            177\n",
      "sibsp            0\n",
      "parch            0\n",
      "fare             0\n",
      "embarked         2\n",
      "class            0\n",
      "who              0\n",
      "adult_male       0\n",
      "deck           688\n",
      "embark_town      2\n",
      "alive            0\n",
      "alone            0\n",
      "dtype: int64\n",
      "          survived      pclass   sex         age       sibsp       parch  \\\n",
      "count   891.000000  891.000000   891  714.000000  891.000000  891.000000   \n",
      "unique         NaN         NaN     2         NaN         NaN         NaN   \n",
      "top            NaN         NaN  male         NaN         NaN         NaN   \n",
      "freq           NaN         NaN   577         NaN         NaN         NaN   \n",
      "mean      0.383838    2.308642   NaN   29.699118    0.523008    0.381594   \n",
      "std       0.486592    0.836071   NaN   14.526497    1.102743    0.806057   \n",
      "min       0.000000    1.000000   NaN    0.420000    0.000000    0.000000   \n",
      "25%       0.000000    2.000000   NaN   20.125000    0.000000    0.000000   \n",
      "50%       0.000000    3.000000   NaN   28.000000    0.000000    0.000000   \n",
      "75%       1.000000    3.000000   NaN   38.000000    1.000000    0.000000   \n",
      "max       1.000000    3.000000   NaN   80.000000    8.000000    6.000000   \n",
      "\n",
      "              fare embarked  class  who adult_male deck  embark_town alive  \\\n",
      "count   891.000000      889    891  891        891  203          889   891   \n",
      "unique         NaN        3      3    3          2    7            3     2   \n",
      "top            NaN        S  Third  man       True    C  Southampton    no   \n",
      "freq           NaN      644    491  537        537   59          644   549   \n",
      "mean     32.204208      NaN    NaN  NaN        NaN  NaN          NaN   NaN   \n",
      "std      49.693429      NaN    NaN  NaN        NaN  NaN          NaN   NaN   \n",
      "min       0.000000      NaN    NaN  NaN        NaN  NaN          NaN   NaN   \n",
      "25%       7.910400      NaN    NaN  NaN        NaN  NaN          NaN   NaN   \n",
      "50%      14.454200      NaN    NaN  NaN        NaN  NaN          NaN   NaN   \n",
      "75%      31.000000      NaN    NaN  NaN        NaN  NaN          NaN   NaN   \n",
      "max     512.329200      NaN    NaN  NaN        NaN  NaN          NaN   NaN   \n",
      "\n",
      "       alone  \n",
      "count    891  \n",
      "unique     2  \n",
      "top     True  \n",
      "freq     537  \n",
      "mean     NaN  \n",
      "std      NaN  \n",
      "min      NaN  \n",
      "25%      NaN  \n",
      "50%      NaN  \n",
      "75%      NaN  \n",
      "max      NaN  \n"
     ]
    }
   ],
   "source": [
    "import pandas as pd\n",
    "import numpy as np\n",
    "import seaborn as sns\n",
    "import matplotlib.pyplot as plt\n",
    "\n",
    "\n",
    "df = sns.load_dataset(\"titanic\")\n",
    "\n",
    "\n",
    "print(df.head())\n",
    "print(df.info())\n",
    "print(df.isnull().sum())\n",
    "print(df.describe(include=\"all\"))\n"
   ]
  },
  {
   "cell_type": "code",
   "execution_count": 70,
   "id": "1c62a0d0-4bdc-450c-b14c-f6cb14afd391",
   "metadata": {},
   "outputs": [
    {
     "name": "stdout",
     "output_type": "stream",
     "text": [
      "survived       0\n",
      "pclass         0\n",
      "sex            0\n",
      "age            0\n",
      "sibsp          0\n",
      "parch          0\n",
      "fare           0\n",
      "embarked       0\n",
      "class          0\n",
      "who            0\n",
      "adult_male     0\n",
      "embark_town    0\n",
      "alive          0\n",
      "alone          0\n",
      "dtype: int64\n"
     ]
    }
   ],
   "source": [
    "df[\"age\"].fillna(df[\"age\"].median(), inplace = True)\n",
    "df[\"embark_town\"].fillna(df[\"embark_town\"].mode()[0], inplace = True)\n",
    "df['embarked'].fillna(df['embarked'].mode()[0], inplace=True)\n",
    "df.drop(columns = ['deck'], inplace = True,errors = \"ignore\")\n",
    "print(df.isnull().sum())"
   ]
  },
  {
   "cell_type": "code",
   "execution_count": 72,
   "id": "f74a389a-ac83-4f0a-b771-eb290e493f2e",
   "metadata": {},
   "outputs": [
    {
     "name": "stdout",
     "output_type": "stream",
     "text": [
      "   survived  pclass  sex   age  sibsp  parch     fare  adult_male alive  \\\n",
      "0         0       3    1  22.0      1      0   7.2500        True    no   \n",
      "1         1       1    0  38.0      1      0  71.2833       False   yes   \n",
      "2         1       3    0  26.0      0      0   7.9250       False   yes   \n",
      "3         1       1    0  35.0      1      0  53.1000       False   yes   \n",
      "4         0       3    1  35.0      0      0   8.0500        True    no   \n",
      "\n",
      "   embarked_Q  embarked_S  class_Second  class_Third  who_man  who_woman  \\\n",
      "0       False        True         False         True     True      False   \n",
      "1       False       False         False        False    False       True   \n",
      "2       False        True         False         True    False       True   \n",
      "3       False        True         False        False    False       True   \n",
      "4       False        True         False         True     True      False   \n",
      "\n",
      "   embark_town_Queenstown  embark_town_Southampton  alone_True  \n",
      "0                   False                     True       False  \n",
      "1                   False                    False       False  \n",
      "2                   False                     True        True  \n",
      "3                   False                     True       False  \n",
      "4                   False                     True        True  \n"
     ]
    }
   ],
   "source": [
    "df['sex'] = df['sex'].map({'male': 1, 'female': 0})\n",
    "\n",
    "df = pd.get_dummies(df, columns=['embarked', 'class', 'who', 'embark_town', 'alone'], drop_first=True)\n",
    "\n",
    "print(df.head())\n"
   ]
  },
  {
   "cell_type": "code",
   "execution_count": 74,
   "id": "9aa6b0c0-c6b5-4da0-af39-980b08836c91",
   "metadata": {},
   "outputs": [
    {
     "name": "stdout",
     "output_type": "stream",
     "text": [
      "   survived  pclass  sex       age     sibsp     parch      fare  adult_male  \\\n",
      "0         0       3    1 -0.565736  0.432793 -0.473674 -0.502445        True   \n",
      "1         1       1    0  0.663861  0.432793 -0.473674  0.786845       False   \n",
      "2         1       3    0 -0.258337 -0.474545 -0.473674 -0.488854       False   \n",
      "3         1       1    0  0.433312  0.432793 -0.473674  0.420730       False   \n",
      "4         0       3    1  0.433312 -0.474545 -0.473674 -0.486337        True   \n",
      "\n",
      "  alive  embarked_Q  embarked_S  class_Second  class_Third  who_man  \\\n",
      "0    no       False        True         False         True     True   \n",
      "1   yes       False       False         False        False    False   \n",
      "2   yes       False        True         False         True    False   \n",
      "3   yes       False        True         False        False    False   \n",
      "4    no       False        True         False         True     True   \n",
      "\n",
      "   who_woman  embark_town_Queenstown  embark_town_Southampton  alone_True  \n",
      "0      False                   False                     True       False  \n",
      "1       True                   False                    False       False  \n",
      "2       True                   False                     True        True  \n",
      "3       True                   False                     True       False  \n",
      "4      False                   False                     True        True  \n"
     ]
    }
   ],
   "source": [
    "from sklearn.preprocessing import StandardScaler\n",
    "\n",
    "num_cols = ['age', 'fare', 'sibsp', 'parch']\n",
    "\n",
    "scaler = StandardScaler()\n",
    "df[num_cols] = scaler.fit_transform(df[num_cols])\n",
    "\n",
    "print(df.head())\n"
   ]
  },
  {
   "cell_type": "code",
   "execution_count": 76,
   "id": "bf15f96f-e116-430e-b454-c2820dd94cf1",
   "metadata": {},
   "outputs": [
    {
     "name": "stdout",
     "output_type": "stream",
     "text": [
      "Bağımsız değişkenlerin boyutu: (891, 16)\n",
      "Bağımlı değişkenin boyutu: (891,)\n"
     ]
    }
   ],
   "source": [
    "y = df['survived']\n",
    "\n",
    "X = df.drop(columns=['survived'])\n",
    "X = X.drop(columns=['alive'], errors='ignore')\n",
    "print(\"Bağımsız değişkenlerin boyutu:\", X.shape)\n",
    "print(\"Bağımlı değişkenin boyutu:\", y.shape)\n"
   ]
  },
  {
   "cell_type": "code",
   "execution_count": 78,
   "id": "3c0abd3f-0d64-4206-9da3-b8bf07dd5c4c",
   "metadata": {},
   "outputs": [
    {
     "name": "stdout",
     "output_type": "stream",
     "text": [
      "Eğitim seti boyutu: (712, 16)\n",
      "Test seti boyutu: (179, 16)\n"
     ]
    }
   ],
   "source": [
    "from sklearn.model_selection import train_test_split\n",
    "X_train, X_test, y_train, y_test = train_test_split(X, y, test_size=0.2, random_state=42, stratify=y)\n",
    "print(\"Eğitim seti boyutu:\", X_train.shape)\n",
    "print(\"Test seti boyutu:\", X_test.shape)\n"
   ]
  },
  {
   "cell_type": "code",
   "execution_count": 80,
   "id": "afdd2642-ca29-4e00-8d6f-43b8e8a1c71d",
   "metadata": {},
   "outputs": [
    {
     "name": "stdout",
     "output_type": "stream",
     "text": [
      "Lojistik Regresyon Doğruluk Skoru: 0.8324\n",
      "\n",
      "Karışıklık Matrisi:\n",
      " [[98 12]\n",
      " [18 51]]\n",
      "\n",
      "Sınıflandırma Raporu:\n",
      "               precision    recall  f1-score   support\n",
      "\n",
      "           0       0.84      0.89      0.87       110\n",
      "           1       0.81      0.74      0.77        69\n",
      "\n",
      "    accuracy                           0.83       179\n",
      "   macro avg       0.83      0.82      0.82       179\n",
      "weighted avg       0.83      0.83      0.83       179\n",
      "\n"
     ]
    }
   ],
   "source": [
    "from sklearn.linear_model import LogisticRegression\n",
    "from sklearn.metrics import accuracy_score, confusion_matrix, classification_report\n",
    "\n",
    "log_model = LogisticRegression(max_iter=1000)\n",
    "log_model.fit(X_train, y_train)\n",
    "\n",
    "y_pred = log_model.predict(X_test)\n",
    "\n",
    "accuracy = accuracy_score(y_test, y_pred)\n",
    "conf_matrix = confusion_matrix(y_test, y_pred)\n",
    "class_report = classification_report(y_test, y_pred)\n",
    "\n",
    "print(f\"Lojistik Regresyon Doğruluk Skoru: {accuracy:.4f}\")\n",
    "print(\"\\nKarışıklık Matrisi:\\n\", conf_matrix)\n",
    "print(\"\\nSınıflandırma Raporu:\\n\", class_report)\n"
   ]
  },
  {
   "cell_type": "markdown",
   "id": "710272a7-13d2-4af3-82f9-422905a2da94",
   "metadata": {},
   "source": [
    "## KNN MODELİ"
   ]
  },
  {
   "cell_type": "code",
   "execution_count": 82,
   "id": "567e00fd-d567-44cd-9391-248d8ac67770",
   "metadata": {},
   "outputs": [
    {
     "name": "stdout",
     "output_type": "stream",
     "text": [
      "KNN Doğruluk Skoru: 0.8268\n",
      "\n",
      "Karışıklık Matrisi:\n",
      " [[98 12]\n",
      " [19 50]]\n",
      "\n",
      "Sınıflandırma Raporu:\n",
      "               precision    recall  f1-score   support\n",
      "\n",
      "           0       0.84      0.89      0.86       110\n",
      "           1       0.81      0.72      0.76        69\n",
      "\n",
      "    accuracy                           0.83       179\n",
      "   macro avg       0.82      0.81      0.81       179\n",
      "weighted avg       0.83      0.83      0.82       179\n",
      "\n"
     ]
    }
   ],
   "source": [
    "from sklearn.neighbors import KNeighborsClassifier\n",
    "\n",
    "knn_model = KNeighborsClassifier(n_neighbors=5)\n",
    "\n",
    "knn_model.fit(X_train, y_train)\n",
    "\n",
    "y_pred_knn = knn_model.predict(X_test)\n",
    "\n",
    "accuracy_knn = accuracy_score(y_test, y_pred_knn)\n",
    "conf_matrix_knn = confusion_matrix(y_test, y_pred_knn)\n",
    "class_report_knn = classification_report(y_test, y_pred_knn)\n",
    "\n",
    "print(f\"KNN Doğruluk Skoru: {accuracy_knn:.4f}\")\n",
    "print(\"\\nKarışıklık Matrisi:\\n\", conf_matrix_knn)\n",
    "print(\"\\nSınıflandırma Raporu:\\n\", class_report_knn)\n"
   ]
  },
  {
   "cell_type": "markdown",
   "id": "3d5414a1-37ce-41a0-bf20-f8782de537e0",
   "metadata": {},
   "source": [
    "## SVM"
   ]
  },
  {
   "cell_type": "code",
   "execution_count": 84,
   "id": "a807caa1-d871-4bb7-a001-e14f0079cc14",
   "metadata": {},
   "outputs": [
    {
     "name": "stdout",
     "output_type": "stream",
     "text": [
      "SVM Doğruluk Skoru: 0.8156\n",
      "\n",
      "Karışıklık Matrisi:\n",
      " [[98 12]\n",
      " [21 48]]\n",
      "\n",
      "Sınıflandırma Raporu:\n",
      "               precision    recall  f1-score   support\n",
      "\n",
      "           0       0.82      0.89      0.86       110\n",
      "           1       0.80      0.70      0.74        69\n",
      "\n",
      "    accuracy                           0.82       179\n",
      "   macro avg       0.81      0.79      0.80       179\n",
      "weighted avg       0.81      0.82      0.81       179\n",
      "\n"
     ]
    }
   ],
   "source": [
    " from sklearn.svm import SVC\n",
    "\n",
    "svm_model = SVC(kernel='linear')\n",
    "\n",
    "svm_model.fit(X_train, y_train)\n",
    "\n",
    "y_pred_svm = svm_model.predict(X_test)\n",
    "\n",
    "accuracy_svm = accuracy_score(y_test, y_pred_svm)\n",
    "conf_matrix_svm = confusion_matrix(y_test, y_pred_svm)\n",
    "class_report_svm = classification_report(y_test, y_pred_svm)\n",
    "\n",
    "print(f\"SVM Doğruluk Skoru: {accuracy_svm:.4f}\")\n",
    "print(\"\\nKarışıklık Matrisi:\\n\", conf_matrix_svm)\n",
    "print(\"\\nSınıflandırma Raporu:\\n\", class_report_svm)\n"
   ]
  },
  {
   "cell_type": "markdown",
   "id": "d7065af7-dc05-445a-a3f9-afac24ad141b",
   "metadata": {},
   "source": [
    "## Desicion Tree"
   ]
  },
  {
   "cell_type": "code",
   "execution_count": 86,
   "id": "c3525956-2901-442d-ab95-387f00036c47",
   "metadata": {},
   "outputs": [
    {
     "name": "stdout",
     "output_type": "stream",
     "text": [
      "Karar Ağacı Doğruluk Skoru: 0.8045\n",
      "\n",
      "Karışıklık Matrisi:\n",
      " [[94 16]\n",
      " [19 50]]\n",
      "\n",
      "Sınıflandırma Raporu:\n",
      "               precision    recall  f1-score   support\n",
      "\n",
      "           0       0.83      0.85      0.84       110\n",
      "           1       0.76      0.72      0.74        69\n",
      "\n",
      "    accuracy                           0.80       179\n",
      "   macro avg       0.79      0.79      0.79       179\n",
      "weighted avg       0.80      0.80      0.80       179\n",
      "\n"
     ]
    }
   ],
   "source": [
    "from sklearn.tree import DecisionTreeClassifier\n",
    "\n",
    "dt_model = DecisionTreeClassifier(random_state=42)\n",
    "\n",
    "dt_model.fit(X_train, y_train)\n",
    "\n",
    "y_pred_dt = dt_model.predict(X_test)\n",
    "\n",
    "accuracy_dt = accuracy_score(y_test, y_pred_dt)\n",
    "conf_matrix_dt = confusion_matrix(y_test, y_pred_dt)\n",
    "class_report_dt = classification_report(y_test, y_pred_dt)\n",
    "\n",
    "print(f\"Karar Ağacı Doğruluk Skoru: {accuracy_dt:.4f}\")\n",
    "print(\"\\nKarışıklık Matrisi:\\n\", conf_matrix_dt)\n",
    "print(\"\\nSınıflandırma Raporu:\\n\", class_report_dt)\n"
   ]
  },
  {
   "cell_type": "markdown",
   "id": "c0763bc6-ca50-4254-bd44-cf5d4fe66f3c",
   "metadata": {},
   "source": [
    "## Random Forest"
   ]
  },
  {
   "cell_type": "code",
   "execution_count": 88,
   "id": "5dd38d92-8fcf-4c8f-8b20-2c8dd492af80",
   "metadata": {},
   "outputs": [
    {
     "name": "stdout",
     "output_type": "stream",
     "text": [
      "Random Forest Doğruluk Skoru: 0.8324\n",
      "\n",
      "Karışıklık Matrisi:\n",
      " [[98 12]\n",
      " [18 51]]\n",
      "\n",
      "Sınıflandırma Raporu:\n",
      "               precision    recall  f1-score   support\n",
      "\n",
      "           0       0.84      0.89      0.87       110\n",
      "           1       0.81      0.74      0.77        69\n",
      "\n",
      "    accuracy                           0.83       179\n",
      "   macro avg       0.83      0.82      0.82       179\n",
      "weighted avg       0.83      0.83      0.83       179\n",
      "\n"
     ]
    }
   ],
   "source": [
    "from sklearn.ensemble import RandomForestClassifier\n",
    "\n",
    "rf_model = RandomForestClassifier(n_estimators=100, random_state=42)\n",
    "\n",
    "rf_model.fit(X_train, y_train)\n",
    "\n",
    "y_pred_rf = rf_model.predict(X_test)\n",
    "\n",
    "accuracy_rf = accuracy_score(y_test, y_pred_rf)\n",
    "conf_matrix_rf = confusion_matrix(y_test, y_pred_rf)\n",
    "class_report_rf = classification_report(y_test, y_pred_rf)\n",
    "\n",
    "print(f\"Random Forest Doğruluk Skoru: {accuracy_rf:.4f}\")\n",
    "print(\"\\nKarışıklık Matrisi:\\n\", conf_matrix_rf)\n",
    "print(\"\\nSınıflandırma Raporu:\\n\", class_report_rf)\n"
   ]
  },
  {
   "cell_type": "markdown",
   "id": "c0e384c5-dcf9-45e6-bbb2-5869ce686d91",
   "metadata": {},
   "source": [
    "## XGBoost"
   ]
  },
  {
   "cell_type": "code",
   "execution_count": 90,
   "id": "b1b799ac-7a62-4d48-a9cb-011ca538664e",
   "metadata": {},
   "outputs": [
    {
     "name": "stdout",
     "output_type": "stream",
     "text": [
      "XGBoost Doğruluk Skoru: 0.7989\n",
      "\n",
      "Karışıklık Matrisi:\n",
      " [[92 18]\n",
      " [18 51]]\n",
      "\n",
      "Sınıflandırma Raporu:\n",
      "               precision    recall  f1-score   support\n",
      "\n",
      "           0       0.84      0.84      0.84       110\n",
      "           1       0.74      0.74      0.74        69\n",
      "\n",
      "    accuracy                           0.80       179\n",
      "   macro avg       0.79      0.79      0.79       179\n",
      "weighted avg       0.80      0.80      0.80       179\n",
      "\n"
     ]
    }
   ],
   "source": [
    "import xgboost as xgb\n",
    "from xgboost import XGBClassifier\n",
    "\n",
    "xgb_model = XGBClassifier(random_state=42)\n",
    "\n",
    "xgb_model.fit(X_train, y_train)\n",
    "\n",
    "y_pred_xgb = xgb_model.predict(X_test)\n",
    "\n",
    "accuracy_xgb = accuracy_score(y_test, y_pred_xgb)\n",
    "conf_matrix_xgb = confusion_matrix(y_test, y_pred_xgb)\n",
    "class_report_xgb = classification_report(y_test, y_pred_xgb)\n",
    "\n",
    "print(f\"XGBoost Doğruluk Skoru: {accuracy_xgb:.4f}\")\n",
    "print(\"\\nKarışıklık Matrisi:\\n\", conf_matrix_xgb)\n",
    "print(\"\\nSınıflandırma Raporu:\\n\", class_report_xgb)\n"
   ]
  },
  {
   "cell_type": "markdown",
   "id": "25d9049a-495f-4604-9be0-f45b4dc83946",
   "metadata": {},
   "source": [
    "## Linear Regression"
   ]
  },
  {
   "cell_type": "code",
   "execution_count": 92,
   "id": "12586c0e-4fbb-470d-b896-ca36bc98521b",
   "metadata": {},
   "outputs": [
    {
     "name": "stdout",
     "output_type": "stream",
     "text": [
      "Lineer Regresyon R² Skoru: 0.41860331357139946\n",
      "Lineer Regresyon Mean Squared Error (MSE): 0.1377235682404756\n"
     ]
    }
   ],
   "source": [
    "from sklearn.linear_model import LinearRegression\n",
    "from sklearn.metrics import r2_score, mean_squared_error\n",
    "\n",
    "linear_reg = LinearRegression()\n",
    "\n",
    "linear_reg.fit(X_train, y_train)\n",
    "\n",
    "y_pred_linear = linear_reg.predict(X_test)\n",
    "\n",
    "r2_linear = r2_score(y_test, y_pred_linear)\n",
    "mse_linear = mean_squared_error(y_test, y_pred_linear)\n",
    "\n",
    "print(\"Lineer Regresyon R² Skoru:\", r2_linear)\n",
    "print(\"Lineer Regresyon Mean Squared Error (MSE):\", mse_linear)\n"
   ]
  },
  {
   "cell_type": "code",
   "execution_count": null,
   "id": "7f83ed50-28f6-453d-bf5d-7a3b46b5ba9b",
   "metadata": {},
   "outputs": [],
   "source": []
  },
  {
   "cell_type": "code",
   "execution_count": null,
   "id": "954b04ea-ad64-42ef-ad9b-fc002c4610f8",
   "metadata": {},
   "outputs": [],
   "source": []
  }
 ],
 "metadata": {
  "kernelspec": {
   "display_name": "Python 3 (ipykernel)",
   "language": "python",
   "name": "python3"
  },
  "language_info": {
   "codemirror_mode": {
    "name": "ipython",
    "version": 3
   },
   "file_extension": ".py",
   "mimetype": "text/x-python",
   "name": "python",
   "nbconvert_exporter": "python",
   "pygments_lexer": "ipython3",
   "version": "3.11.7"
  }
 },
 "nbformat": 4,
 "nbformat_minor": 5
}
